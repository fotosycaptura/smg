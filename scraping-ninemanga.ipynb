{
 "cells": [
  {
   "cell_type": "code",
   "execution_count": 1,
   "metadata": {},
   "outputs": [],
   "source": [
    "import bs4\n",
    "import requests\n",
    "import os"
   ]
  },
  {
   "cell_type": "code",
   "execution_count": 2,
   "metadata": {},
   "outputs": [],
   "source": [
    "ruta_manga = './static/Mngs/'"
   ]
  },
  {
   "cell_type": "code",
   "execution_count": 3,
   "metadata": {},
   "outputs": [],
   "source": [
    "def get_headers():\n",
    "        return {'User-Agent': 'Mozilla/5.0 (X11; Linux x86_64) AppleWebKit/537.36 (KHTML, like Gecko) Ubuntu Chromium/37.0.2062.94 Chrome/37.0.2062.94 Safari/537.36'}"
   ]
  },
  {
   "cell_type": "code",
   "execution_count": 4,
   "metadata": {},
   "outputs": [],
   "source": [
    "def crear_carpeta_capitulo(ruta_manga, capitulo):\n",
    "    path_crear = os.path.join(ruta_manga, capitulo)\n",
    "    #print (f\"Creando {os.path.abspath(path_crear)}\")\n",
    "    if not(os.path.exists(os.path.abspath(path_crear)) and os.path.isdir(os.path.abspath(path_crear))):\n",
    "            os.mkdir(os.path.abspath(path_crear))"
   ]
  },
  {
   "cell_type": "code",
   "execution_count": 5,
   "metadata": {},
   "outputs": [],
   "source": [
    "def crear_carpeta_manga(home_mangas, nombre_manga) -> str:\n",
    "        \"\"\"\n",
    "        Crea la carpeta que contendrá los capítulos del manga\n",
    "        Y retorna la ruta física donde serán alojados\n",
    "        \"\"\"\n",
    "        ruta_manga = os.path.join(home_mangas, nombre_manga)\n",
    "        # print(f\"Creando carpeta en {ruta_manga}\")\n",
    "        if not(os.path.exists(ruta_manga) and os.path.isdir(ruta_manga)):\n",
    "                os.mkdir(os.path.abspath(ruta_manga))\n",
    "        return ruta_manga"
   ]
  },
  {
   "cell_type": "code",
   "execution_count": 24,
   "metadata": {},
   "outputs": [],
   "source": [
    "def descargar(url_plantilla, tope_rango, ruta_del_manga_por_descargar, nombre_capitulo):\n",
    "    # Se crean las carpetas respectivas para cada capítulo\n",
    "    print(f'Descargando {nombre_capitulo}\\n')\n",
    "    crear_carpeta_capitulo(ruta_del_manga_por_descargar, nombre_capitulo)\n",
    "    \n",
    "    for pagina in range(1,tope_rango +1):\n",
    "        url_pagina_imagen = url_plantilla.format(pagina)\n",
    "        resultado = requests.get(url_pagina_imagen)\n",
    "        sopa = bs4.BeautifulSoup(resultado.text, 'lxml')\n",
    "        # seleccionar datos de imagenes\n",
    "        imagenes = sopa.select('.manga_pic')\n",
    "        for imagen in imagenes:\n",
    "            #print(imagen['src'])\n",
    "            imagen_save = requests.get(imagen['src'])\n",
    "            nombre_file = str(imagen['src'])\n",
    "            nombre_file = nombre_file[nombre_file.rindex('/')+1:]\n",
    "            # Nombre de la carpeta\n",
    "            ruta = os.path.join(ruta_del_manga_por_descargar, nombre_capitulo ,str(pagina).zfill(2) + \".jpg\")\n",
    "            ruta = os.path.abspath(ruta)\n",
    "            # Se verifica si no existe la imagen previamente\n",
    "            if not(os.path.exists(ruta)):\n",
    "                f = open (ruta, 'wb')\n",
    "                f.write(imagen_save.content)\n",
    "                f.close()"
   ]
  },
  {
   "cell_type": "code",
   "execution_count": 20,
   "metadata": {},
   "outputs": [],
   "source": [
    "url_base = 'https://es.ninemanga.com/manga/Domestic+na+Kanojo.html?waring=1'\n",
    "url_base = 'https://es.ninemanga.com/manga/Lightning+Rod.html?waring=1'\n",
    "url_base = 'https://es.ninemanga.com/manga/Sono+Bisque+Doll+wa+Koi+wo+suru.html?waring=1'\n",
    "url_base = 'https://es.ninemanga.com/manga/%5BNaPaTa%5D+Anata+no+Neko+ni.html?waring=1'\n",
    "url_base = 'https://es.ninemanga.com/manga/Hatsukoi+zombie.html?waring=1'\n",
    "url_base = 'https://es.ninemanga.com/manga/Yaoguai+Mingdan+-+Monster+List.html?waring=1'\n",
    "url_base = 'https://es.ninemanga.com/manga/Secret+Folder.html?waring=1'\n",
    "# url_base = 'https://es.ninemanga.com/manga/Magika+no+Kenshi+to+Vasreus.html?waring=1'\n",
    "# url_base = 'https://es.ninemanga.com/manga/ISEKAI+DESU+GA+MAMONO+SAIBAI+SHITEIMASU..html?waring=1'\n",
    "# url_base = 'https://es.ninemanga.com/manga/Blade+Play.html?waring=1'\n",
    "# url_base = 'https://es.ninemanga.com/manga/Chuuko+demo+Koi+ga+Shitai%21.html?waring=1'\n",
    "# url_base = 'https://es.ninemanga.com/manga/Kemokko+Zoo%21.html?waring=1'\n",
    "# url_base = 'https://es.ninemanga.com/manga/Isekai+de+Kojiin+wo+Hiraita+kedo%2C+Naze+ka+Darehitori+Sudatou+to+Shinai+Ken.html?waring=1'\n",
    "# url_base = 'https://es.ninemanga.com/manga/Makikomarete+Isekai+Teni+Suru+Yatsu+Wa.html?waring=1'\n",
    "# url_base = 'https://es.ninemanga.com/manga/Magical%E2%98%85Explorer+-+Eroge+no+Yuujin+Kyara+ni+Tensei+Shitakedo%2C+Game+Chishiki+Tsukatte+Jiyuu+ni+Ikiru.html'\n",
    "# url_base = 'https://es.ninemanga.com/manga/me+convert%C3%AD+en+el+jefe+de+un+pueblo+primitivo.html?waring=1'\n",
    "# url_base = 'https://es.ninemanga.com/manga/Yo%2C+Un+inmortal+me+cas%C3%A9+con+una+diosa+malvada.html?waring=1'\n",
    "# url_base = 'https://es.ninemanga.com/manga/Kaminaki+Sekai+no+Kamisama+Katsudou.html?waring=1'\n",
    "\n",
    "# url_base = 'https://es.ninemanga.com/manga/Nito+no+Taidana+Isekai+Shoukougun%3A+Saijaku+Shoku+%26quot%3BHealer%26quot%3B+nano+ni+Saikyou+wa+Cheat+desu+ka%3F.html?waring=1'\n",
    "\n",
    "# url_base = 'https://es.ninemanga.com/manga/Pheromone+Holic.html?waring=1'\n",
    "# url_base = 'https://es.ninemanga.com/manga/Girls+Saurus+DX.html?waring=1'\n",
    "# url_base = 'https://es.ninemanga.com/manga/Wagatsuma-san+wa+Ore+no+Yome.html?waring=1'\n",
    "# url_base = 'https://es.ninemanga.com/manga/Kagami+no+Kuni+no+Harisugawa.html?waring=1'\n",
    "\n",
    "# url_base = 'https://es.ninemanga.com/manga/Shimoeda-san+Chi+no+Akarui+Shokutaku.html?waring=1'\n",
    "# url_base = 'https://es.ninemanga.com/manga/Hen+Koi+-+The+After+School+Diary.html?waring=1'\n",
    "# url_base = 'https://es.ninemanga.com/manga/Onnanoko+ga+H+na+Manga+Egaicha+Dame+Desu+ka%3F.html?waring=1'\n",
    "url_base = 'https://es.ninemanga.com/manga/The+Wrong+Hole+-+Oops%21+I+Did+My+Girlfriend%26%23039%3Bs+Sister.html?waring=1'\n",
    "url_base = 'https://es.ninemanga.com/manga/Saki+the+Succubus+Hungers+Tonight.html?waring=1'\n",
    "url_base = 'https://es.ninemanga.com/manga/Lecciones+de+sexo+en+el+mundo+de+los+demonios.html?waring=1'\n",
    "url_base = 'https://es.ninemanga.com/manga/Anti-magic+Academy+-The+35th+test+platoon-.html?waring=1'\n",
    "url_base = 'https://es.ninemanga.com/manga/Night+of+the+Succubus.html?waring=1'\n",
    "url_base = 'https://es.ninemanga.com/manga/Erotic+Fairy+Tales+-+The+Little+Mermaid.html?waring=1'\n",
    "url_base = 'https://es.ninemanga.com/manga/Zenbu+Kimi+no+Sei+da.html?waring=1'\n",
    "url_base = 'https://es.ninemanga.com/manga/sakagami-+sama+tsuiteru.html?waring=1'\n",
    "url_base = 'https://es.ninemanga.com/manga/Wrestle%21+The+Under+Ground.html?waring=1'\n",
    "\n",
    "# url_base = 'https://es.ninemanga.com/manga/El+H%C3%A9roe+de+la+Burgues%C3%ADa.html?waring=1'"
   ]
  },
  {
   "cell_type": "code",
   "execution_count": 28,
   "metadata": {},
   "outputs": [
    {
     "name": "stdout",
     "output_type": "stream",
     "text": [
      "Descargando To LOVE-Ru Full Color \n",
      "Descargando Capítulo 3\n",
      "\n",
      "Descargando Capítulo 4\n",
      "\n",
      "Descargando Capítulo 5\n",
      "\n",
      "Descargando Capítulo 12\n",
      "\n",
      "Descargando Capítulo 14\n",
      "\n"
     ]
    }
   ],
   "source": [
    "resultado = requests.get(url_base)\n",
    "sopa = bs4.BeautifulSoup(resultado.text, 'lxml')\n",
    "capitulos = sopa.select('.chapter_list_a')\n",
    "#print(f\"Descargando {len(capitulos)} capítulos\")\n",
    "capitulos.reverse()\n",
    "titulo = sopa.select('.ttline')[0].getText()\n",
    "titulo = titulo.replace('Manga', '')\n",
    "titulo = titulo.replace('\"', '')\n",
    "titulo = titulo.replace('?', '')\n",
    "titulo = titulo.replace(':', '')\n",
    "print(f\"Descargando {titulo}\")\n",
    "ruta_del_manga_por_descargar = crear_carpeta_manga(ruta_manga, titulo).rstrip()\n",
    "\n",
    "for item in capitulos:\n",
    "    # Por cada capítulo, obtener nombre del capitulo\n",
    "    nombre_capitulo = item.get_text()\n",
    "\n",
    "    # Por cada capítulo, obtener url del capítulo\n",
    "    url_capitulo = item['href']\n",
    "\n",
    "    capitulo_seleccionado = requests.get(url_capitulo)\n",
    "    sopa_capitulo = bs4.BeautifulSoup(capitulo_seleccionado.text, 'lxml').select_one('select[name=page] option[selected]')\n",
    "    total_imagenes = 0\n",
    "    # cantidad de imagenes\n",
    "    try:\n",
    "        total_imagenes = str(sopa_capitulo.getText())[str(sopa_capitulo.getText()).rindex('/')+1:]\n",
    "    except:\n",
    "        pass\n",
    "    \n",
    "    if (int(total_imagenes) > 0):\n",
    "        # ruta de las imagenes\n",
    "        url_imagen = 'https://es.ninemanga.com' + str(sopa_capitulo['value'])[:sopa_capitulo['value'].rindex('-')] + '-{}.html'\n",
    "\n",
    "        capitulo_sin_titulo = nombre_capitulo.replace(titulo, '').lstrip()\n",
    "        capitulo_sin_titulo = capitulo_sin_titulo.replace('\"', '')\n",
    "        capitulo_sin_titulo = capitulo_sin_titulo.replace('?', '')\n",
    "        capitulo_sin_titulo = capitulo_sin_titulo.replace(':', '')\n",
    "        capitulo_sin_titulo = capitulo_sin_titulo.replace(titulo, '').lstrip()\n",
    "        #crear_carpeta_capitulo(ruta_del_manga_por_descargar, capitulo_sin_titulo)\n",
    "    \n",
    "        descargar(url_imagen, int(total_imagenes), ruta_del_manga_por_descargar.lstrip(), capitulo_sin_titulo)"
   ]
  }
 ],
 "metadata": {
  "kernelspec": {
   "display_name": "Python 3",
   "language": "python",
   "name": "python3"
  },
  "language_info": {
   "codemirror_mode": {
    "name": "ipython",
    "version": 3
   },
   "file_extension": ".py",
   "mimetype": "text/x-python",
   "name": "python",
   "nbconvert_exporter": "python",
   "pygments_lexer": "ipython3",
   "version": "3.11.3"
  },
  "orig_nbformat": 4
 },
 "nbformat": 4,
 "nbformat_minor": 2
}
